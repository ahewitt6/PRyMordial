{
 "cells": [
  {
   "cell_type": "code",
   "execution_count": 1,
   "metadata": {
    "scrolled": true
   },
   "outputs": [
    {
     "name": "stdout",
     "output_type": "stream",
     "text": [
      "CPU times: user 19.1 s, sys: 171 ms, total: 19.3 s\n",
      "Wall time: 19.5 s\n"
     ]
    }
   ],
   "source": [
    "# Hello, World! of PRyMordial\n",
    "import PRyM.PRyM_main as PRyMmain\n",
    "%time myPRyM = PRyMmain.PRyMclass()"
   ]
  },
  {
   "cell_type": "code",
   "execution_count": 2,
   "metadata": {},
   "outputs": [
    {
     "data": {
      "text/plain": [
       "array([ 3.04438852,  5.69940717, 93.03360798,  0.24555799,  0.24688388,\n",
       "        2.45571913,  1.04109377,  5.4396027 ])"
      ]
     },
     "execution_count": 2,
     "metadata": {},
     "output_type": "execute_result"
    }
   ],
   "source": [
    "# [Neff , Ω_ν h^2 × 10^6 (rel), ∑ m_ν / (Ω_ν h^2) [eV], YP (CMB), YP (BBN), D/H × 10^5, 3He/H × 10^5, 7Li/H × 10^10]\n",
    "myPRyM.PRyMresults()"
   ]
  },
  {
   "cell_type": "code",
   "execution_count": 3,
   "metadata": {},
   "outputs": [
    {
     "data": {
      "text/plain": [
       "(3.0443885202770353,\n",
       " 5.699407167709695,\n",
       " 0.010748803811036312,\n",
       " 0.24555799256654465,\n",
       " 0.24688388433548078,\n",
       " 2.4557191299983862e-05,\n",
       " 1.0410937694846855e-05,\n",
       " 5.439602704563259e-10)"
      ]
     },
     "execution_count": 3,
     "metadata": {},
     "output_type": "execute_result"
    }
   ],
   "source": [
    "# Individual call for each observable\n",
    "myPRyM.Neff(),myPRyM.Omeganurel(),myPRyM.Omeganunonrel(),myPRyM.YPCMB(),myPRyM.YPBBN(),myPRyM.DoH(),myPRyM.He3oH(),myPRyM.Li7oH(),"
   ]
  },
  {
   "cell_type": "code",
   "execution_count": 4,
   "metadata": {},
   "outputs": [],
   "source": [
    "# Change of input parameter\n",
    "import PRyM.PRyM_init as PRyMini\n",
    "PRyMini.tau_n = 879 # s\n",
    "myPRyMnewtau = PRyMmain.PRyMclass()"
   ]
  },
  {
   "cell_type": "code",
   "execution_count": 5,
   "metadata": {
    "scrolled": false
   },
   "outputs": [
    {
     "data": {
      "text/plain": [
       "array([ 3.04438852,  5.69940717, 93.03360798,  0.24568768,  0.24701405,\n",
       "        2.45568435,  1.04128876,  5.44031987])"
      ]
     },
     "execution_count": 5,
     "metadata": {},
     "output_type": "execute_result"
    }
   ],
   "source": [
    "# Results with new neutron lifetime\n",
    "myPRyMnewtau.PRyMresults()"
   ]
  },
  {
   "cell_type": "code",
   "execution_count": 6,
   "metadata": {
    "scrolled": false
   },
   "outputs": [],
   "source": [
    "# Change of nuclear rates\n",
    "PRyMini.nacreii_flag = True\n",
    "PRyMini.ReloadKeyRates()\n",
    "myPRyMnacreii = PRyMmain.PRyMclass()"
   ]
  },
  {
   "cell_type": "code",
   "execution_count": 7,
   "metadata": {
    "scrolled": true
   },
   "outputs": [
    {
     "data": {
      "text/plain": [
       "array([ 3.04438852,  5.69940717, 93.03360798,  0.24560241,  0.24692846,\n",
       "        2.53091765,  1.04596038,  5.26793753])"
      ]
     },
     "execution_count": 7,
     "metadata": {},
     "output_type": "execute_result"
    }
   ],
   "source": [
    "# Results with NACRE-II key nuclear rates\n",
    "myPRyMnacreii.PRyMresults()"
   ]
  },
  {
   "cell_type": "code",
   "execution_count": 8,
   "metadata": {},
   "outputs": [
    {
     "name": "stdout",
     "output_type": "stream",
     "text": [
      "CPU times: user 10.8 s, sys: 35.9 ms, total: 10.8 s\n",
      "Wall time: 10.8 s\n"
     ]
    },
    {
     "data": {
      "text/plain": [
       "array([ 3.04438852,  5.69940717, 93.03360798,  0.24559377,  0.24691979,\n",
       "        2.52938906,  1.04631994,  5.32182768])"
      ]
     },
     "execution_count": 8,
     "metadata": {},
     "output_type": "execute_result"
    }
   ],
   "source": [
    "# Use small nuclear network comprising key rates for YP and D/H\n",
    "PRyMini.smallnet_flag = True\n",
    "%time PRyMmain.PRyMclass().PRyMresults()"
   ]
  },
  {
   "cell_type": "code",
   "execution_count": 10,
   "metadata": {},
   "outputs": [],
   "source": [
    "############################################\n",
    "# Code to reproduce Figure 2 of 2307.07061 #\n",
    "############################################\n",
    "# Restore neutron lifetime of PDG 2023\n",
    "PRyMini.tau_n = 878.4 # s\n",
    "# Include incomplete decoupling in a(T)\n",
    "aTid_flag = True\n",
    "# Recompute the background from scratch\n",
    "PRyMini.compute_bckg_flag = True\n",
    "# Save the background in PRyMrates/thermo\n",
    "PRyMini.save_bckg_flag = True\n",
    "# Recompute n <--> p rates from scratch\n",
    "PRyMini.compute_nTOp_flag = True\n",
    "# Save n <--> p rates in PRyMrates/nTOp\n",
    "PRyMini.save_nTOp_flag = True\n",
    "# Include only key rates in nuclear network\n",
    "PRyMini.smallnet_flag = True\n",
    "# NACRE II compilation for key rates\n",
    "PRyMini.nacreii_flag = True\n",
    "# compute PRyM observables\n",
    "YP,DoHx1e5,He3oHx1e5,Li7oHx1e10 = PRyMmain.PRyMclass().PRyMresults()[4:8]"
   ]
  },
  {
   "cell_type": "code",
   "execution_count": 11,
   "metadata": {},
   "outputs": [
    {
     "name": "stdout",
     "output_type": "stream",
     "text": [
      "CPU times: user 3.18 s, sys: 18 ms, total: 3.2 s\n",
      "Wall time: 3.22 s\n"
     ]
    }
   ],
   "source": [
    "# Change in etab does not require to recompute background and p <--> n\n",
    "PRyMini.compute_bckg_flag = False\n",
    "PRyMini.save_bckg_flag = False\n",
    "PRyMini.compute_nTOp_flag = False\n",
    "PRyMini.save_nTOp_flag = False\n",
    "# Compute PRyMordial obs will now be faster!\n",
    "%time YP,DoHx1e5,He3oHx1e5,Li7oHx1e10 = PRyMmain.PRyMclass().PRyMresults()[4:8]"
   ]
  },
  {
   "cell_type": "code",
   "execution_count": 12,
   "metadata": {},
   "outputs": [],
   "source": [
    "# PDG plot\n",
    "npoints = 20\n",
    "import numpy as np\n",
    "etabvec = np.logspace(-10,-9,npoints)\n",
    "# Initialization of array of observables\n",
    "YP_vec, DoH_vec, He3oH_vec, Li7oH_vec = np.zeros((4,npoints))\n",
    "for i in range(npoints):\n",
    "    # Update value of baryon-to-photon ratio\n",
    "    PRyMini.eta0b = etabvec[i]\n",
    "    # Store obs computed for the new eta\n",
    "    YP_vec[i], DoH_vec[i], He3oH_vec[i], Li7oH_vec[i] = PRyMmain.PRyMclass().PRyMresults()[4:8]"
   ]
  },
  {
   "cell_type": "code",
   "execution_count": 15,
   "metadata": {},
   "outputs": [
    {
     "name": "stdout",
     "output_type": "stream",
     "text": [
      "etab10 :  [ 1.          1.12883789  1.27427499  1.43844989  1.62377674  1.83298071\n",
      "  2.06913808  2.33572147  2.6366509   2.97635144  3.35981829  3.79269019\n",
      "  4.2813324   4.83293024  5.45559478  6.15848211  6.95192796  7.8475997\n",
      "  8.8586679  10.        ]\n",
      "YP :  [0.22161251 0.22437462 0.22684817 0.22907052 0.2310983  0.23296737\n",
      " 0.23470055 0.23632004 0.2378371  0.23928363 0.24065009 0.24197766\n",
      " 0.24325356 0.24450142 0.2457055  0.2468765  0.24803865 0.24917416\n",
      " 0.25029507 0.25139384]\n",
      "DoH :  [46.30052103 38.02213446 31.10599782 25.48678168 20.88056167 17.11499746\n",
      " 14.05804238 11.57658758  9.55382206  7.88410631  6.51617202  5.39040614\n",
      "  4.45066057  3.67684098  3.03694638  2.4915611   2.03768081  1.65410559\n",
      "  1.33299631  1.06101458]\n"
     ]
    }
   ],
   "source": [
    "# Sample of array values for Figure 2 in 2307.07061\n",
    "# Figure 2 obtained w/ 50 points + PDG 2023 inputs + large nuclear network\n",
    "print(\"etab10 : \",etabvec*1e+10)\n",
    "print(\"YP : \",YP_vec)\n",
    "print(\"DoH : \",DoH_vec)"
   ]
  },
  {
   "cell_type": "code",
   "execution_count": 28,
   "metadata": {},
   "outputs": [],
   "source": [
    "############################################\n",
    "# Code to reproduce Figure 3 of 2307.07061 #\n",
    "############################################\n",
    "# SM MC run\n",
    "num_it = 80 # toy MC ... 10K used for Figure 3 w/ large network\n",
    "import numpy as np\n",
    "YP_vec, DoH_vec, He3oH_vec, Li7oH_vec = np.zeros((4,num_it))\n",
    "# Baryon eta from Planck 18 (no BBN prior)\n",
    "mean_eta0b = PRyMini.Omegabh2_to_eta0b*0.02230\n",
    "std_eta0b = PRyMini.Omegabh2_to_eta0b*2*1.e-4\n",
    "# Neutron lifetime from PDG 2023\n",
    "mean_tau_n = 878.4 # s\n",
    "std_tau_n = 0.5 # s"
   ]
  },
  {
   "cell_type": "code",
   "execution_count": 29,
   "metadata": {},
   "outputs": [],
   "source": [
    "# Compute primordial abundances at each iteration\n",
    "def ComputeAbundances(i):\n",
    "    # Settings to speed up the SM MC\n",
    "    PRyMini.recompute_bckg = False\n",
    "    PRyMini.recompute_nTOp_rates = False\n",
    "    # Small network used: Set to False for a more reliable prediction of Li7\n",
    "    PRyMini.smallnet_flag = True\n",
    "    PRyMini.num_reactions = 12 # for the large network, set this to be 63\n",
    "    # Gaussian prior on baryon-to-photon ratio\n",
    "    PRyMini.eta0b = np.random.normal(mean_eta0b,std_eta0b)\n",
    "    # Gaussian prior on neutron lifetime\n",
    "    PRyMini.tau_n = np.random.normal(mean_tau_n,std_tau_n)\n",
    "    # Log-normal prior on nuclear rates\n",
    "    # For the large network, many more ... see PRyM_init.py\n",
    "    PRyMini.p_npdg,PRyMini.p_dpHe3g,PRyMini.p_ddHe3n,PRyMini.p_ddtp,PRyMini.p_tpag,PRyMini.p_tdan,PRyMini.p_taLi7g,PRyMini.p_He3ntp,PRyMini.p_He3dap,PRyMini.p_He3aBe7g,PRyMini.p_Be7nLi7p,PRyMini.p_Li7paa = np.random.normal(0,1,PRyMini.num_reactions)\n",
    "    # Adopt NACRE II compilation for key rates\n",
    "    PRyMini.nacreii_flag = True\n",
    "    PRyMini.ReloadKeyRates()\n",
    "    return PRyMmain.PRyMclass().PRyMresults()[4:8]"
   ]
  },
  {
   "cell_type": "code",
   "execution_count": 30,
   "metadata": {},
   "outputs": [],
   "source": [
    "# Parallelizing w/ joblib + multiprocessing\n",
    "from joblib import Parallel, delayed\n",
    "import multiprocessing\n",
    "num_cpu = int(multiprocessing.cpu_count())\n",
    "FinalAbundances = Parallel(n_jobs = num_cpu)(delayed(ComputeAbundances)((i)) \n",
    "for i in range(num_it))\n",
    "YP_vec, DoH_vec, He3oH_vec, Li7oH_vec = np.array(FinalAbundances).transpose()"
   ]
  },
  {
   "cell_type": "code",
   "execution_count": 31,
   "metadata": {},
   "outputs": [
    {
     "name": "stdout",
     "output_type": "stream",
     "text": [
      "Mean 0.2468051799540944  +- 0.00014796011976920647\n"
     ]
    },
    {
     "data": {
      "text/plain": [
       "array([0.24665914, 0.24680892, 0.24696653])"
      ]
     },
     "execution_count": 31,
     "metadata": {},
     "output_type": "execute_result"
    }
   ],
   "source": [
    "# Statistics for primordial helium-4 mass fraction\n",
    "print(\"Mean\", np.mean(YP_vec), \" +-\", np.std(YP_vec))\n",
    "np.quantile(YP_vec,[0.16,0.5,0.84])"
   ]
  },
  {
   "cell_type": "code",
   "execution_count": 32,
   "metadata": {},
   "outputs": [
    {
     "name": "stdout",
     "output_type": "stream",
     "text": [
      "Mean 2.523145773036314  +- 0.10212326637028163\n"
     ]
    },
    {
     "data": {
      "text/plain": [
       "array([2.42822918, 2.51904284, 2.61839101])"
      ]
     },
     "execution_count": 32,
     "metadata": {},
     "output_type": "execute_result"
    }
   ],
   "source": [
    "# Statistics for primordial deuterium relative H number density\n",
    "print(\"Mean\", np.mean(DoH_vec), \" +-\", np.std(DoH_vec))\n",
    "np.quantile(DoH_vec,[0.16,0.5,0.84])"
   ]
  },
  {
   "cell_type": "code",
   "execution_count": null,
   "metadata": {},
   "outputs": [],
   "source": []
  }
 ],
 "metadata": {
  "kernelspec": {
   "display_name": "Python 3",
   "language": "python",
   "name": "python3"
  },
  "language_info": {
   "codemirror_mode": {
    "name": "ipython",
    "version": 3
   },
   "file_extension": ".py",
   "mimetype": "text/x-python",
   "name": "python",
   "nbconvert_exporter": "python",
   "pygments_lexer": "ipython3",
   "version": "3.9.5"
  }
 },
 "nbformat": 4,
 "nbformat_minor": 1
}
