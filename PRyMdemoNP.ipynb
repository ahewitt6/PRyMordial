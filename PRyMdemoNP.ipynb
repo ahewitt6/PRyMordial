{
 "cells": [
  {
   "cell_type": "code",
   "execution_count": 1,
   "metadata": {
    "scrolled": true
   },
   "outputs": [],
   "source": [
    "# Vary Neff\n",
    "import PRyM.PRyM_init as PRyMini\n",
    "import PRyM.PRyM_main as PRyMmain\n",
    "PRyMini.aTid_flag = True\n",
    "PRyMini.compute_bckg_flag = True\n",
    "PRyMini.compute_nTOp_flag = True\n",
    "PRyMini.DeltaNeff = 0.\n",
    "PRyMSM = PRyMmain.PRyMclass()\n",
    "PRyMini.DeltaNeff = -1\n",
    "PRyMDeltaNeff = PRyMmain.PRyMclass()"
   ]
  },
  {
   "cell_type": "code",
   "execution_count": 2,
   "metadata": {},
   "outputs": [
    {
     "data": {
      "text/plain": [
       "array([ 2.0347102 ,  5.71377888, 92.85804906,  0.23098984,  0.23226129,\n",
       "        2.1222465 ,  0.99173412,  5.95540689])"
      ]
     },
     "execution_count": 2,
     "metadata": {},
     "output_type": "execute_result"
    }
   ],
   "source": [
    "# [Neff , Ω_ν h^2 × 10^6 (rel), ∑ m_ν / (Ω_ν h^2) [eV], YP (CMB), YP (BBN), D/H × 10^5, 3He/H × 10^5, 7Li/H × 10^10]\n",
    "PRyMDeltaNeff.PRyMresults()"
   ]
  },
  {
   "cell_type": "code",
   "execution_count": 3,
   "metadata": {},
   "outputs": [
    {
     "data": {
      "text/plain": [
       "-0.009678321997505623"
      ]
     },
     "execution_count": 3,
     "metadata": {},
     "output_type": "execute_result"
    }
   ],
   "source": [
    "# Expectation: recover input DeltaNeff within numerical precision\n",
    "(PRyMDeltaNeff.Neff()-PRyMSM.Neff())-PRyMini.DeltaNeff "
   ]
  },
  {
   "cell_type": "code",
   "execution_count": 4,
   "metadata": {},
   "outputs": [],
   "source": [
    "# Vary Lepton Asymmetry\n",
    "PRyMini.DeltaNeff = 0.\n",
    "PRyMini.munuOverTnu = 0.04 # implies roughly YP of 0.237, see 2206.00693\n",
    "PRyMini.nacreii_flag = False\n",
    "PRyMini.ReloadKeyRates()\n",
    "PRyMXiNuPRIMAT = PRyMmain.PRyMclass()\n",
    "PRyMini.nacreii_flag = True\n",
    "PRyMini.ReloadKeyRates()\n",
    "PRyMXiNuNACREII = PRyMmain.PRyMclass()"
   ]
  },
  {
   "cell_type": "code",
   "execution_count": 5,
   "metadata": {},
   "outputs": [
    {
     "data": {
      "text/plain": [
       "-0.036567468502801966"
      ]
     },
     "execution_count": 5,
     "metadata": {},
     "output_type": "execute_result"
    }
   ],
   "source": [
    "# Expectation: helium-4 mainly sensitive to weak rates\n",
    "(PRyMXiNuNACREII.YPBBN()-PRyMXiNuPRIMAT.YPBBN())/0.237*100"
   ]
  },
  {
   "cell_type": "code",
   "execution_count": 6,
   "metadata": {},
   "outputs": [],
   "source": [
    "# Scalar with mass mX = 0.1 MeV\n",
    "PRyMini.munuOverTnu = 0.\n",
    "import numpy as np\n",
    "from scipy.integrate import quad\n",
    "gX = 1; mX = 0.1;\n",
    "def rho_NP(T_NP):\n",
    "    if T_NP < mX/30.: return 0.\n",
    "    else:\n",
    "        res_int = quad(lambda E: E**2*(E**2-(mX/T_NP)**2)**0.5\n",
    "        /(np.exp(E)-1.) ,mX/T_NP,100.,epsrel=1e-9,epsabs=1e-12)[0]\n",
    "        return gX/(2*np.pi**2)*T_NP**4*res_int\n",
    "def p_NP(T_NP):\n",
    "    if T_NP < mX/30.: return 0.\n",
    "    else:\n",
    "        res_int = quad(lambda E: (E**2-(mX/T_NP)**2)**1.5\n",
    "        /(np.exp(E)-1.) ,mX/T_NP,100.,epsabs=1e-9,epsrel=1e-12)[0]\n",
    "        return gX/(6*np.pi**2)*T_NP**4*res_int\n",
    "def drho_NP_dT(T_NP):\n",
    "    if T_NP < mX/30.: return 0.\n",
    "    else:\n",
    "        res_int = quad(lambda E: 0.25*E**3*(E**2-(mX/T_NP)**2)**0.5*\n",
    "        np.sinh(E/2.0)**-2 ,mX/T_NP,100,epsabs=1e-9,epsrel=1e-12)[0]\n",
    "        return gX/(2*np.pi**2)*T_NP**3*res_int"
   ]
  },
  {
   "cell_type": "code",
   "execution_count": 7,
   "metadata": {},
   "outputs": [
    {
     "data": {
      "text/plain": [
       "array([  2.42947952,   4.54823454, 110.18690598,   0.26234923,\n",
       "         0.2637341 ,   1.84848403,   0.94098227,   8.56948814])"
      ]
     },
     "execution_count": 7,
     "metadata": {},
     "output_type": "execute_result"
    }
   ],
   "source": [
    "# Adding e-philic species to thermal bath\n",
    "PRyMini.aTid_flag = True\n",
    "PRyMini.compute_bckg_flag = True\n",
    "PRyMini.compute_nTOp_flag = True\n",
    "PRyMini.NP_e_flag = True\n",
    "PRyMephilic = PRyMmain.PRyMclass(rho_NP,p_NP,drho_NP_dT)\n",
    "# [Neff , Ω_ν h^2 × 10^6 (rel), ∑ m_ν / (Ω_ν h^2) [eV], YP (CMB), YP (BBN), D/H × 10^5, 3He/H × 10^5, 7Li/H × 10^10]\n",
    "PRyMephilic.PRyMresults()"
   ]
  },
  {
   "cell_type": "code",
   "execution_count": 8,
   "metadata": {},
   "outputs": [
    {
     "data": {
      "text/plain": [
       "array([ 3.83701271,  7.18328085, 78.21138778,  0.25298604,  0.25433852,\n",
       "        2.76314191,  1.0753871 ,  4.89881479])"
      ]
     },
     "execution_count": 8,
     "metadata": {},
     "output_type": "execute_result"
    }
   ],
   "source": [
    "# Adding e-philic species to thermal bath\n",
    "PRyMini.aTid_flag = True\n",
    "PRyMini.compute_bckg_flag = True\n",
    "PRyMini.compute_nTOp_flag = True\n",
    "PRyMini.NP_e_flag = False\n",
    "PRyMini.NP_nu_flag = True\n",
    "PRyMephilic = PRyMmain.PRyMclass(rho_NP,p_NP,drho_NP_dT)\n",
    "# [Neff , Ω_ν h^2 × 10^6 (rel), ∑ m_ν / (Ω_ν h^2) [eV], YP (CMB), YP (BBN), D/H × 10^5, 3He/H × 10^5, 7Li/H × 10^10]\n",
    "PRyMephilic.PRyMresults()"
   ]
  },
  {
   "cell_type": "code",
   "execution_count": 13,
   "metadata": {},
   "outputs": [
    {
     "data": {
      "text/plain": [
       "-7.004815159987158"
      ]
     },
     "execution_count": 13,
     "metadata": {},
     "output_type": "execute_result"
    }
   ],
   "source": [
    "# Vary Weak Rates wrt Born\n",
    "PRyMini.NP_nTOp_flag = False\n",
    "PRyMini.compute_nTOp_flag = True # need to recompute weak rates x Born approximation\n",
    "PRyMini.nTOpBorn_flag = True\n",
    "PRyMSMBorn = PRyMmain.PRyMclass()\n",
    "PRyMini.compute_nTOp_flag = True # need to recompute weak rates due to NP\n",
    "PRyMini.NP_nTOp_flag = True\n",
    "PRyMini.NP_delta_nTOp = 0.1 # variation of neutron freeze out of O(10%) wrt Born prediction\n",
    "PRyMNPnTOp = PRyMmain.PRyMclass()\n",
    "(PRyMNPnTOp.YPBBN()-PRyMSMBorn.YPBBN())/PRyMSMBorn.YPBBN()*100"
   ]
  },
  {
   "cell_type": "code",
   "execution_count": 14,
   "metadata": {},
   "outputs": [
    {
     "data": {
      "text/plain": [
       "7.167486838534172"
      ]
     },
     "execution_count": 14,
     "metadata": {},
     "output_type": "execute_result"
    }
   ],
   "source": [
    "# Vary Nuclear Rates wrt to Nominal Input\n",
    "PRyMini.nTOpBorn_flag = False\n",
    "PRyMini.compute_nTOp_flag = True\n",
    "PRyMSM = PRyMmain.PRyMclass()\n",
    "PRyMini.NP_nuclear_flag = True\n",
    "PRyMini.compute_nTOp_flag = False # no need to recompute weak rates\n",
    "PRyMini.NP_delta_npdg = 0.1 # variation of deuterium of O(10%) wrt nominal prediction\n",
    "PRyMNPxDoH = PRyMmain.PRyMclass()\n",
    "(PRyMNPxDoH.YPBBN()-PRyMSM.YPBBN())/PRyMSM.YPBBN()*100"
   ]
  }
 ],
 "metadata": {
  "kernelspec": {
   "display_name": "Python 3 (ipykernel)",
   "language": "python",
   "name": "python3"
  },
  "language_info": {
   "codemirror_mode": {
    "name": "ipython",
    "version": 3
   },
   "file_extension": ".py",
   "mimetype": "text/x-python",
   "name": "python",
   "nbconvert_exporter": "python",
   "pygments_lexer": "ipython3",
   "version": "3.11.4"
  }
 },
 "nbformat": 4,
 "nbformat_minor": 4
}
